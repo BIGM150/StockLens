{
 "cells": [
  {
   "cell_type": "code",
   "execution_count": 7,
   "metadata": {},
   "outputs": [],
   "source": [
    "import nasdaqdatalink\n",
    "\n"
   ]
  },
  {
   "cell_type": "code",
   "execution_count": 3,
   "metadata": {},
   "outputs": [
    {
     "ename": "ForbiddenError",
     "evalue": "(Status 401) (Nasdaq Data Link Error QEPx01) You have attempted to view a protected resource in anonymous mode, i.e., without providing a Nasdaq Data Link key. Please register for a free Nasdaq Data Link account, and then include your API key with your requests.",
     "output_type": "error",
     "traceback": [
      "\u001b[1;31m---------------------------------------------------------------------------\u001b[0m",
      "\u001b[1;31mForbiddenError\u001b[0m                            Traceback (most recent call last)",
      "Cell \u001b[1;32mIn[3], line 1\u001b[0m\n\u001b[1;32m----> 1\u001b[0m data\u001b[39m=\u001b[39mnasdaqdatalink\u001b[39m.\u001b[39;49mbulkdownload(\u001b[39m\"\u001b[39;49m\u001b[39mZEA\u001b[39;49m\u001b[39m\"\u001b[39;49m)\n",
      "File \u001b[1;32mc:\\Users\\johnny\\Documents\\Code\\StocksLens\\.venv\\lib\\site-packages\\nasdaqdatalink\\bulkdownload.py:24\u001b[0m, in \u001b[0;36mbulkdownload\u001b[1;34m(database, **kwargs)\u001b[0m\n\u001b[0;32m     21\u001b[0m ApiKeyUtil\u001b[39m.\u001b[39minit_api_key_from_args(kwargs)\n\u001b[0;32m     23\u001b[0m filename \u001b[39m=\u001b[39m kwargs\u001b[39m.\u001b[39mpop(\u001b[39m'\u001b[39m\u001b[39mfilename\u001b[39m\u001b[39m'\u001b[39m, \u001b[39m'\u001b[39m\u001b[39m.\u001b[39m\u001b[39m'\u001b[39m)\n\u001b[1;32m---> 24\u001b[0m \u001b[39mreturn\u001b[39;00m Database(database)\u001b[39m.\u001b[39;49mbulk_download_to_file(filename, params\u001b[39m=\u001b[39;49mkwargs)\n",
      "File \u001b[1;32mc:\\Users\\johnny\\Documents\\Code\\StocksLens\\.venv\\lib\\site-packages\\nasdaqdatalink\\model\\database.py:46\u001b[0m, in \u001b[0;36mDatabase.bulk_download_to_file\u001b[1;34m(self, file_or_folder_path, **options)\u001b[0m\n\u001b[0;32m     43\u001b[0m path_url \u001b[39m=\u001b[39m \u001b[39mself\u001b[39m\u001b[39m.\u001b[39m_bulk_download_path()\n\u001b[0;32m     45\u001b[0m options[\u001b[39m'\u001b[39m\u001b[39mstream\u001b[39m\u001b[39m'\u001b[39m] \u001b[39m=\u001b[39m \u001b[39mTrue\u001b[39;00m\n\u001b[1;32m---> 46\u001b[0m r \u001b[39m=\u001b[39m Connection\u001b[39m.\u001b[39;49mrequest(\u001b[39m'\u001b[39;49m\u001b[39mget\u001b[39;49m\u001b[39m'\u001b[39;49m, path_url, \u001b[39m*\u001b[39;49m\u001b[39m*\u001b[39;49moptions)\n\u001b[0;32m     47\u001b[0m file_path \u001b[39m=\u001b[39m file_or_folder_path\n\u001b[0;32m     48\u001b[0m \u001b[39mif\u001b[39;00m os\u001b[39m.\u001b[39mpath\u001b[39m.\u001b[39misdir(file_or_folder_path):\n",
      "File \u001b[1;32mc:\\Users\\johnny\\Documents\\Code\\StocksLens\\.venv\\lib\\site-packages\\nasdaqdatalink\\connection.py:40\u001b[0m, in \u001b[0;36mConnection.request\u001b[1;34m(cls, http_verb, url, **options)\u001b[0m\n\u001b[0;32m     36\u001b[0m options[\u001b[39m'\u001b[39m\u001b[39mheaders\u001b[39m\u001b[39m'\u001b[39m] \u001b[39m=\u001b[39m headers\n\u001b[0;32m     38\u001b[0m abs_url \u001b[39m=\u001b[39m \u001b[39m'\u001b[39m\u001b[39m%s\u001b[39;00m\u001b[39m/\u001b[39m\u001b[39m%s\u001b[39;00m\u001b[39m'\u001b[39m \u001b[39m%\u001b[39m (ApiConfig\u001b[39m.\u001b[39mapi_base, url)\n\u001b[1;32m---> 40\u001b[0m \u001b[39mreturn\u001b[39;00m \u001b[39mcls\u001b[39;49m\u001b[39m.\u001b[39;49mexecute_request(http_verb, abs_url, \u001b[39m*\u001b[39;49m\u001b[39m*\u001b[39;49moptions)\n",
      "File \u001b[1;32mc:\\Users\\johnny\\Documents\\Code\\StocksLens\\.venv\\lib\\site-packages\\nasdaqdatalink\\connection.py:52\u001b[0m, in \u001b[0;36mConnection.execute_request\u001b[1;34m(cls, http_verb, url, **options)\u001b[0m\n\u001b[0;32m     47\u001b[0m response \u001b[39m=\u001b[39m session\u001b[39m.\u001b[39mrequest(method\u001b[39m=\u001b[39mhttp_verb,\n\u001b[0;32m     48\u001b[0m                            url\u001b[39m=\u001b[39murl,\n\u001b[0;32m     49\u001b[0m                            verify\u001b[39m=\u001b[39mApiConfig\u001b[39m.\u001b[39mverify_ssl,\n\u001b[0;32m     50\u001b[0m                            \u001b[39m*\u001b[39m\u001b[39m*\u001b[39moptions)\n\u001b[0;32m     51\u001b[0m \u001b[39mif\u001b[39;00m response\u001b[39m.\u001b[39mstatus_code \u001b[39m<\u001b[39m \u001b[39m200\u001b[39m \u001b[39mor\u001b[39;00m response\u001b[39m.\u001b[39mstatus_code \u001b[39m>\u001b[39m\u001b[39m=\u001b[39m \u001b[39m300\u001b[39m:\n\u001b[1;32m---> 52\u001b[0m     \u001b[39mcls\u001b[39;49m\u001b[39m.\u001b[39;49mhandle_api_error(response)\n\u001b[0;32m     53\u001b[0m \u001b[39melse\u001b[39;00m:\n\u001b[0;32m     54\u001b[0m     \u001b[39mreturn\u001b[39;00m response\n",
      "File \u001b[1;32mc:\\Users\\johnny\\Documents\\Code\\StocksLens\\.venv\\lib\\site-packages\\nasdaqdatalink\\connection.py:120\u001b[0m, in \u001b[0;36mConnection.handle_api_error\u001b[1;34m(cls, resp)\u001b[0m\n\u001b[0;32m    109\u001b[0m d_klass \u001b[39m=\u001b[39m {\n\u001b[0;32m    110\u001b[0m     \u001b[39m'\u001b[39m\u001b[39mL\u001b[39m\u001b[39m'\u001b[39m: LimitExceededError,\n\u001b[0;32m    111\u001b[0m     \u001b[39m'\u001b[39m\u001b[39mM\u001b[39m\u001b[39m'\u001b[39m: InternalServerError,\n\u001b[1;32m   (...)\u001b[0m\n\u001b[0;32m    116\u001b[0m     \u001b[39m'\u001b[39m\u001b[39mX\u001b[39m\u001b[39m'\u001b[39m: ServiceUnavailableError\n\u001b[0;32m    117\u001b[0m }\n\u001b[0;32m    118\u001b[0m klass \u001b[39m=\u001b[39m d_klass\u001b[39m.\u001b[39mget(code_letter, DataLinkError)\n\u001b[1;32m--> 120\u001b[0m \u001b[39mraise\u001b[39;00m klass(message, resp\u001b[39m.\u001b[39mstatus_code, resp\u001b[39m.\u001b[39mtext, resp\u001b[39m.\u001b[39mheaders, code)\n",
      "\u001b[1;31mForbiddenError\u001b[0m: (Status 401) (Nasdaq Data Link Error QEPx01) You have attempted to view a protected resource in anonymous mode, i.e., without providing a Nasdaq Data Link key. Please register for a free Nasdaq Data Link account, and then include your API key with your requests."
     ]
    }
   ],
   "source": [
    "data=nasdaqdatalink.bulkdownload(\"ZEA\",nasdaq_key)"
   ]
  }
 ],
 "metadata": {
  "kernelspec": {
   "display_name": "Python 3",
   "language": "python",
   "name": "python3"
  },
  "language_info": {
   "codemirror_mode": {
    "name": "ipython",
    "version": 3
   },
   "file_extension": ".py",
   "mimetype": "text/x-python",
   "name": "python",
   "nbconvert_exporter": "python",
   "pygments_lexer": "ipython3",
   "version": "3.8.10"
  },
  "orig_nbformat": 4
 },
 "nbformat": 4,
 "nbformat_minor": 2
}
