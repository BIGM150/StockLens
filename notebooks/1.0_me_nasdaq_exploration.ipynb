{
 "cells": [
  {
   "cell_type": "code",
   "execution_count": 22,
   "metadata": {},
   "outputs": [],
   "source": [
    "import nasdaqdatalink\n",
    "\n",
    "import os\n",
    "from dotenv import load_dotenv\n",
    "\n",
    "load_dotenv()\n",
    "nasdaqdatalink.read_key( os.getenv('nasdaq_key'))\n"
   ]
  },
  {
   "cell_type": "code",
   "execution_count": 25,
   "metadata": {},
   "outputs": [
    {
     "name": "stdout",
     "output_type": "stream",
     "text": [
      "            Value\n",
      "Date             \n",
      "1986-01-02  25.56\n",
      "1986-01-03  26.00\n",
      "1986-01-06  26.53\n",
      "1986-01-07  25.85\n",
      "1986-01-08  25.87\n",
      "...           ...\n",
      "2022-02-02  88.16\n",
      "2022-02-03  90.17\n",
      "2022-02-04  92.27\n",
      "2022-02-07  91.25\n",
      "2022-02-08  89.32\n",
      "\n",
      "[9124 rows x 1 columns]\n"
     ]
    }
   ],
   "source": [
    "# documentation\n",
    "## https://docs.data.nasdaq.com/docs/python-time-series\n",
    "\n",
    "\n",
    "data = nasdaqdatalink.get(\"EIA/PET_RWTC_D\")\n"
   ]
  }
 ],
 "metadata": {
  "kernelspec": {
   "display_name": "Python 3",
   "language": "python",
   "name": "python3"
  },
  "language_info": {
   "codemirror_mode": {
    "name": "ipython",
    "version": 3
   },
   "file_extension": ".py",
   "mimetype": "text/x-python",
   "name": "python",
   "nbconvert_exporter": "python",
   "pygments_lexer": "ipython3",
   "version": "3.8.10"
  },
  "orig_nbformat": 4
 },
 "nbformat": 4,
 "nbformat_minor": 2
}
