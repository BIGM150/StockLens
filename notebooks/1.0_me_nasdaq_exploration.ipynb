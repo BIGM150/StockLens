{
 "cells": [
  {
   "cell_type": "code",
   "execution_count": 72,
   "metadata": {},
   "outputs": [],
   "source": [
    "import nasdaqdatalink\n",
    "import pandas as pd\n",
    "import os\n",
    "from dotenv import load_dotenv\n",
    "\n",
    "load_dotenv()\n",
    "\n",
    "df_stocks = pd.read_csv('..'+ os.getenv('over_the_counter'))"
   ]
  },
  {
   "cell_type": "code",
   "execution_count": 73,
   "metadata": {},
   "outputs": [
    {
     "data": {
      "text/plain": [
       "Index(['Symbol', 'Security Name', 'Tier', 'Price', 'Change %', 'Vol',\n",
       "       'Sec Type', 'Country', 'State'],\n",
       "      dtype='object')"
      ]
     },
     "execution_count": 73,
     "metadata": {},
     "output_type": "execute_result"
    }
   ],
   "source": [
    "df_stocks.columns"
   ]
  },
  {
   "cell_type": "code",
   "execution_count": 75,
   "metadata": {},
   "outputs": [
    {
     "data": {
      "text/html": [
       "<div>\n",
       "<style scoped>\n",
       "    .dataframe tbody tr th:only-of-type {\n",
       "        vertical-align: middle;\n",
       "    }\n",
       "\n",
       "    .dataframe tbody tr th {\n",
       "        vertical-align: top;\n",
       "    }\n",
       "\n",
       "    .dataframe thead th {\n",
       "        text-align: right;\n",
       "    }\n",
       "</style>\n",
       "<table border=\"1\" class=\"dataframe\">\n",
       "  <thead>\n",
       "    <tr style=\"text-align: right;\">\n",
       "      <th></th>\n",
       "      <th>Symbol</th>\n",
       "      <th>Security Name</th>\n",
       "      <th>Tier</th>\n",
       "      <th>Price</th>\n",
       "      <th>Change %</th>\n",
       "      <th>Vol</th>\n",
       "      <th>Sec Type</th>\n",
       "      <th>Country</th>\n",
       "      <th>State</th>\n",
       "    </tr>\n",
       "  </thead>\n",
       "  <tbody>\n",
       "    <tr>\n",
       "      <th>11868</th>\n",
       "      <td>YELLQ</td>\n",
       "      <td>YELLOW CORP</td>\n",
       "      <td>Pink Current</td>\n",
       "      <td>2.53</td>\n",
       "      <td>15.0</td>\n",
       "      <td>1456529</td>\n",
       "      <td>Common Stock</td>\n",
       "      <td>USA</td>\n",
       "      <td>Utah</td>\n",
       "    </tr>\n",
       "  </tbody>\n",
       "</table>\n",
       "</div>"
      ],
      "text/plain": [
       "      Symbol Security Name          Tier  Price  Change %      Vol  \\\n",
       "11868  YELLQ   YELLOW CORP  Pink Current   2.53      15.0  1456529   \n",
       "\n",
       "           Sec Type Country State  \n",
       "11868  Common Stock     USA  Utah  "
      ]
     },
     "execution_count": 75,
     "metadata": {},
     "output_type": "execute_result"
    }
   ],
   "source": [
    "# lets just choose YELLQ\n",
    "# Obtain the data from otcmarkets.com => traded stocks that are over the counter\n",
    "df_stocks.loc[df_stocks['Symbol'] == 'YELLQ']\n"
   ]
  },
  {
   "cell_type": "code",
   "execution_count": 77,
   "metadata": {},
   "outputs": [
    {
     "name": "stdout",
     "output_type": "stream",
     "text": [
      "            Value\n",
      "Date             \n",
      "1986-01-02  25.56\n",
      "1986-01-03  26.00\n",
      "1986-01-06  26.53\n",
      "1986-01-07  25.85\n",
      "1986-01-08  25.87\n",
      "...           ...\n",
      "2022-02-02  88.16\n",
      "2022-02-03  90.17\n",
      "2022-02-04  92.27\n",
      "2022-02-07  91.25\n",
      "2022-02-08  89.32\n",
      "\n",
      "[9124 rows x 1 columns]\n"
     ]
    }
   ],
   "source": [
    "nasdaqdatalink.read_key( os.getenv('nasdaq_key'))\n",
    "data = nasdaqdatalink.get(\"EIA/PET_RWTC_D\")\n",
    "print(data)"
   ]
  }
 ],
 "metadata": {
  "kernelspec": {
   "display_name": "Python 3",
   "language": "python",
   "name": "python3"
  },
  "language_info": {
   "codemirror_mode": {
    "name": "ipython",
    "version": 3
   },
   "file_extension": ".py",
   "mimetype": "text/x-python",
   "name": "python",
   "nbconvert_exporter": "python",
   "pygments_lexer": "ipython3",
   "version": "3.8.10"
  },
  "orig_nbformat": 4
 },
 "nbformat": 4,
 "nbformat_minor": 2
}
